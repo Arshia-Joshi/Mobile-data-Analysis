{
 "cells": [
  {
   "cell_type": "code",
   "execution_count": 71,
   "id": "68e9b79e-eaaf-4f89-972c-1b2e2537cc42",
   "metadata": {},
   "outputs": [
    {
     "name": "stdout",
     "output_type": "stream",
     "text": [
      "     User ID        Device Model Operating System  App Usage Time (min/day)  \\\n",
      "0          1      Google Pixel 5          Android                       393   \n",
      "1          2           OnePlus 9          Android                       268   \n",
      "2          3        Xiaomi Mi 11          Android                       154   \n",
      "3          4      Google Pixel 5          Android                       239   \n",
      "4          5           iPhone 12              iOS                       187   \n",
      "..       ...                 ...              ...                       ...   \n",
      "695      696           iPhone 12              iOS                        92   \n",
      "696      697        Xiaomi Mi 11          Android                       316   \n",
      "697      698      Google Pixel 5          Android                        99   \n",
      "698      699  Samsung Galaxy S21          Android                        62   \n",
      "699      700           OnePlus 9          Android                       212   \n",
      "\n",
      "     Screen On Time (hours/day)  Battery Drain (mAh/day)  \\\n",
      "0                           6.4                     1872   \n",
      "1                           4.7                     1331   \n",
      "2                           4.0                      761   \n",
      "3                           4.8                     1676   \n",
      "4                           4.3                     1367   \n",
      "..                          ...                      ...   \n",
      "695                         3.9                     1082   \n",
      "696                         6.8                     1965   \n",
      "697                         3.1                      942   \n",
      "698                         1.7                      431   \n",
      "699                         5.4                     1306   \n",
      "\n",
      "     Number of Apps Installed  Data Usage (MB/day)  Age  Gender  \\\n",
      "0                          67                 1122   40    Male   \n",
      "1                          42                  944   47  Female   \n",
      "2                          32                  322   42    Male   \n",
      "3                          56                  871   20    Male   \n",
      "4                          58                  988   31  Female   \n",
      "..                        ...                  ...  ...     ...   \n",
      "695                        26                  381   22    Male   \n",
      "696                        68                 1201   59    Male   \n",
      "697                        22                  457   50  Female   \n",
      "698                        13                  224   44    Male   \n",
      "699                        49                  828   23  Female   \n",
      "\n",
      "     User Behavior Class  \n",
      "0                      4  \n",
      "1                      3  \n",
      "2                      2  \n",
      "3                      3  \n",
      "4                      3  \n",
      "..                   ...  \n",
      "695                    2  \n",
      "696                    4  \n",
      "697                    2  \n",
      "698                    1  \n",
      "699                    3  \n",
      "\n",
      "[700 rows x 11 columns]\n"
     ]
    }
   ],
   "source": [
    "\n",
    "#importing the data\n",
    "import pandas as pd\n",
    "data=pd.read_csv(\"C:/Users/a2z/OneDrive/Desktop/snehal/Data Science/Mini project/miniprojectdataset.csv\")\n",
    "print(data)"
   ]
  },
  {
   "cell_type": "code",
   "execution_count": 3,
   "id": "deae4357-973f-4fb4-9598-8b6effbb9e8f",
   "metadata": {},
   "outputs": [
    {
     "data": {
      "text/html": [
       "<div>\n",
       "<style scoped>\n",
       "    .dataframe tbody tr th:only-of-type {\n",
       "        vertical-align: middle;\n",
       "    }\n",
       "\n",
       "    .dataframe tbody tr th {\n",
       "        vertical-align: top;\n",
       "    }\n",
       "\n",
       "    .dataframe thead th {\n",
       "        text-align: right;\n",
       "    }\n",
       "</style>\n",
       "<table border=\"1\" class=\"dataframe\">\n",
       "  <thead>\n",
       "    <tr style=\"text-align: right;\">\n",
       "      <th></th>\n",
       "      <th>User ID</th>\n",
       "      <th>Device Model</th>\n",
       "      <th>Operating System</th>\n",
       "      <th>App Usage Time (min/day)</th>\n",
       "      <th>Screen On Time (hours/day)</th>\n",
       "      <th>Battery Drain (mAh/day)</th>\n",
       "      <th>Number of Apps Installed</th>\n",
       "      <th>Data Usage (MB/day)</th>\n",
       "      <th>Age</th>\n",
       "      <th>Gender</th>\n",
       "      <th>User Behavior Class</th>\n",
       "    </tr>\n",
       "  </thead>\n",
       "  <tbody>\n",
       "    <tr>\n",
       "      <th>0</th>\n",
       "      <td>1</td>\n",
       "      <td>Google Pixel 5</td>\n",
       "      <td>Android</td>\n",
       "      <td>393</td>\n",
       "      <td>6.4</td>\n",
       "      <td>1872</td>\n",
       "      <td>67</td>\n",
       "      <td>1122</td>\n",
       "      <td>40</td>\n",
       "      <td>Male</td>\n",
       "      <td>4</td>\n",
       "    </tr>\n",
       "    <tr>\n",
       "      <th>1</th>\n",
       "      <td>2</td>\n",
       "      <td>OnePlus 9</td>\n",
       "      <td>Android</td>\n",
       "      <td>268</td>\n",
       "      <td>4.7</td>\n",
       "      <td>1331</td>\n",
       "      <td>42</td>\n",
       "      <td>944</td>\n",
       "      <td>47</td>\n",
       "      <td>Female</td>\n",
       "      <td>3</td>\n",
       "    </tr>\n",
       "    <tr>\n",
       "      <th>2</th>\n",
       "      <td>3</td>\n",
       "      <td>Xiaomi Mi 11</td>\n",
       "      <td>Android</td>\n",
       "      <td>154</td>\n",
       "      <td>4.0</td>\n",
       "      <td>761</td>\n",
       "      <td>32</td>\n",
       "      <td>322</td>\n",
       "      <td>42</td>\n",
       "      <td>Male</td>\n",
       "      <td>2</td>\n",
       "    </tr>\n",
       "    <tr>\n",
       "      <th>3</th>\n",
       "      <td>4</td>\n",
       "      <td>Google Pixel 5</td>\n",
       "      <td>Android</td>\n",
       "      <td>239</td>\n",
       "      <td>4.8</td>\n",
       "      <td>1676</td>\n",
       "      <td>56</td>\n",
       "      <td>871</td>\n",
       "      <td>20</td>\n",
       "      <td>Male</td>\n",
       "      <td>3</td>\n",
       "    </tr>\n",
       "    <tr>\n",
       "      <th>4</th>\n",
       "      <td>5</td>\n",
       "      <td>iPhone 12</td>\n",
       "      <td>iOS</td>\n",
       "      <td>187</td>\n",
       "      <td>4.3</td>\n",
       "      <td>1367</td>\n",
       "      <td>58</td>\n",
       "      <td>988</td>\n",
       "      <td>31</td>\n",
       "      <td>Female</td>\n",
       "      <td>3</td>\n",
       "    </tr>\n",
       "  </tbody>\n",
       "</table>\n",
       "</div>"
      ],
      "text/plain": [
       "   User ID    Device Model Operating System  App Usage Time (min/day)  \\\n",
       "0        1  Google Pixel 5          Android                       393   \n",
       "1        2       OnePlus 9          Android                       268   \n",
       "2        3    Xiaomi Mi 11          Android                       154   \n",
       "3        4  Google Pixel 5          Android                       239   \n",
       "4        5       iPhone 12              iOS                       187   \n",
       "\n",
       "   Screen On Time (hours/day)  Battery Drain (mAh/day)  \\\n",
       "0                         6.4                     1872   \n",
       "1                         4.7                     1331   \n",
       "2                         4.0                      761   \n",
       "3                         4.8                     1676   \n",
       "4                         4.3                     1367   \n",
       "\n",
       "   Number of Apps Installed  Data Usage (MB/day)  Age  Gender  \\\n",
       "0                        67                 1122   40    Male   \n",
       "1                        42                  944   47  Female   \n",
       "2                        32                  322   42    Male   \n",
       "3                        56                  871   20    Male   \n",
       "4                        58                  988   31  Female   \n",
       "\n",
       "   User Behavior Class  \n",
       "0                    4  \n",
       "1                    3  \n",
       "2                    2  \n",
       "3                    3  \n",
       "4                    3  "
      ]
     },
     "execution_count": 3,
     "metadata": {},
     "output_type": "execute_result"
    }
   ],
   "source": [
    "#gives the first five data\n",
    "data.head()"
   ]
  },
  {
   "cell_type": "code",
   "execution_count": 5,
   "id": "43bd20b2-ed04-4fa5-b42b-3bf4366ac019",
   "metadata": {},
   "outputs": [
    {
     "data": {
      "text/html": [
       "<div>\n",
       "<style scoped>\n",
       "    .dataframe tbody tr th:only-of-type {\n",
       "        vertical-align: middle;\n",
       "    }\n",
       "\n",
       "    .dataframe tbody tr th {\n",
       "        vertical-align: top;\n",
       "    }\n",
       "\n",
       "    .dataframe thead th {\n",
       "        text-align: right;\n",
       "    }\n",
       "</style>\n",
       "<table border=\"1\" class=\"dataframe\">\n",
       "  <thead>\n",
       "    <tr style=\"text-align: right;\">\n",
       "      <th></th>\n",
       "      <th>User ID</th>\n",
       "      <th>Device Model</th>\n",
       "      <th>Operating System</th>\n",
       "      <th>App Usage Time (min/day)</th>\n",
       "      <th>Screen On Time (hours/day)</th>\n",
       "      <th>Battery Drain (mAh/day)</th>\n",
       "      <th>Number of Apps Installed</th>\n",
       "      <th>Data Usage (MB/day)</th>\n",
       "      <th>Age</th>\n",
       "      <th>Gender</th>\n",
       "      <th>User Behavior Class</th>\n",
       "    </tr>\n",
       "  </thead>\n",
       "  <tbody>\n",
       "    <tr>\n",
       "      <th>695</th>\n",
       "      <td>696</td>\n",
       "      <td>iPhone 12</td>\n",
       "      <td>iOS</td>\n",
       "      <td>92</td>\n",
       "      <td>3.9</td>\n",
       "      <td>1082</td>\n",
       "      <td>26</td>\n",
       "      <td>381</td>\n",
       "      <td>22</td>\n",
       "      <td>Male</td>\n",
       "      <td>2</td>\n",
       "    </tr>\n",
       "    <tr>\n",
       "      <th>696</th>\n",
       "      <td>697</td>\n",
       "      <td>Xiaomi Mi 11</td>\n",
       "      <td>Android</td>\n",
       "      <td>316</td>\n",
       "      <td>6.8</td>\n",
       "      <td>1965</td>\n",
       "      <td>68</td>\n",
       "      <td>1201</td>\n",
       "      <td>59</td>\n",
       "      <td>Male</td>\n",
       "      <td>4</td>\n",
       "    </tr>\n",
       "    <tr>\n",
       "      <th>697</th>\n",
       "      <td>698</td>\n",
       "      <td>Google Pixel 5</td>\n",
       "      <td>Android</td>\n",
       "      <td>99</td>\n",
       "      <td>3.1</td>\n",
       "      <td>942</td>\n",
       "      <td>22</td>\n",
       "      <td>457</td>\n",
       "      <td>50</td>\n",
       "      <td>Female</td>\n",
       "      <td>2</td>\n",
       "    </tr>\n",
       "    <tr>\n",
       "      <th>698</th>\n",
       "      <td>699</td>\n",
       "      <td>Samsung Galaxy S21</td>\n",
       "      <td>Android</td>\n",
       "      <td>62</td>\n",
       "      <td>1.7</td>\n",
       "      <td>431</td>\n",
       "      <td>13</td>\n",
       "      <td>224</td>\n",
       "      <td>44</td>\n",
       "      <td>Male</td>\n",
       "      <td>1</td>\n",
       "    </tr>\n",
       "    <tr>\n",
       "      <th>699</th>\n",
       "      <td>700</td>\n",
       "      <td>OnePlus 9</td>\n",
       "      <td>Android</td>\n",
       "      <td>212</td>\n",
       "      <td>5.4</td>\n",
       "      <td>1306</td>\n",
       "      <td>49</td>\n",
       "      <td>828</td>\n",
       "      <td>23</td>\n",
       "      <td>Female</td>\n",
       "      <td>3</td>\n",
       "    </tr>\n",
       "  </tbody>\n",
       "</table>\n",
       "</div>"
      ],
      "text/plain": [
       "     User ID        Device Model Operating System  App Usage Time (min/day)  \\\n",
       "695      696           iPhone 12              iOS                        92   \n",
       "696      697        Xiaomi Mi 11          Android                       316   \n",
       "697      698      Google Pixel 5          Android                        99   \n",
       "698      699  Samsung Galaxy S21          Android                        62   \n",
       "699      700           OnePlus 9          Android                       212   \n",
       "\n",
       "     Screen On Time (hours/day)  Battery Drain (mAh/day)  \\\n",
       "695                         3.9                     1082   \n",
       "696                         6.8                     1965   \n",
       "697                         3.1                      942   \n",
       "698                         1.7                      431   \n",
       "699                         5.4                     1306   \n",
       "\n",
       "     Number of Apps Installed  Data Usage (MB/day)  Age  Gender  \\\n",
       "695                        26                  381   22    Male   \n",
       "696                        68                 1201   59    Male   \n",
       "697                        22                  457   50  Female   \n",
       "698                        13                  224   44    Male   \n",
       "699                        49                  828   23  Female   \n",
       "\n",
       "     User Behavior Class  \n",
       "695                    2  \n",
       "696                    4  \n",
       "697                    2  \n",
       "698                    1  \n",
       "699                    3  "
      ]
     },
     "execution_count": 5,
     "metadata": {},
     "output_type": "execute_result"
    }
   ],
   "source": [
    "#give the last 5 data\n",
    "data.tail()"
   ]
  },
  {
   "cell_type": "code",
   "execution_count": 6,
   "id": "973f8fa5-b4d6-45ce-892f-21216c80a52c",
   "metadata": {},
   "outputs": [
    {
     "data": {
      "text/plain": [
       "(700, 11)"
      ]
     },
     "execution_count": 6,
     "metadata": {},
     "output_type": "execute_result"
    }
   ],
   "source": [
    "#gives the how many rows and columns are there\n",
    "data.shape"
   ]
  },
  {
   "cell_type": "code",
   "execution_count": 17,
   "id": "ca7df8e0-4459-4212-a8e8-7caf1893f74b",
   "metadata": {},
   "outputs": [
    {
     "data": {
      "text/plain": [
       "7700"
      ]
     },
     "execution_count": 17,
     "metadata": {},
     "output_type": "execute_result"
    }
   ],
   "source": [
    "#give the total cells in data\n",
    "data.size"
   ]
  },
  {
   "cell_type": "code",
   "execution_count": 18,
   "id": "2c9f21b8-f961-4680-8c68-1398666176af",
   "metadata": {},
   "outputs": [
    {
     "data": {
      "text/plain": [
       "Index(['User ID', 'Device Model', 'Operating System',\n",
       "       'App Usage Time (min/day)', 'Screen On Time (hours/day)',\n",
       "       'Battery Drain (mAh/day)', 'Number of Apps Installed',\n",
       "       'Data Usage (MB/day)', 'Age', 'Gender', 'User Behavior Class'],\n",
       "      dtype='object')"
      ]
     },
     "execution_count": 18,
     "metadata": {},
     "output_type": "execute_result"
    }
   ],
   "source": [
    "#name of columns\n",
    "data.columns"
   ]
  },
  {
   "cell_type": "code",
   "execution_count": 19,
   "id": "48013b5e-b2f3-4486-98ee-3af49b40198a",
   "metadata": {},
   "outputs": [
    {
     "data": {
      "text/plain": [
       "User ID                         int64\n",
       "Device Model                   object\n",
       "Operating System               object\n",
       "App Usage Time (min/day)        int64\n",
       "Screen On Time (hours/day)    float64\n",
       "Battery Drain (mAh/day)         int64\n",
       "Number of Apps Installed        int64\n",
       "Data Usage (MB/day)             int64\n",
       "Age                             int64\n",
       "Gender                         object\n",
       "User Behavior Class             int64\n",
       "dtype: object"
      ]
     },
     "execution_count": 19,
     "metadata": {},
     "output_type": "execute_result"
    }
   ],
   "source": [
    "#gives the data type of columns\n",
    "data.dtypes"
   ]
  },
  {
   "cell_type": "code",
   "execution_count": 20,
   "id": "9b3de286-68d9-409b-8cb4-d13c60ad3410",
   "metadata": {},
   "outputs": [
    {
     "data": {
      "text/plain": [
       "array([[1, 'Google Pixel 5', 'Android', ..., 40, 'Male', 4],\n",
       "       [2, 'OnePlus 9', 'Android', ..., 47, 'Female', 3],\n",
       "       [3, 'Xiaomi Mi 11', 'Android', ..., 42, 'Male', 2],\n",
       "       ...,\n",
       "       [698, 'Google Pixel 5', 'Android', ..., 50, 'Female', 2],\n",
       "       [699, 'Samsung Galaxy S21', 'Android', ..., 44, 'Male', 1],\n",
       "       [700, 'OnePlus 9', 'Android', ..., 23, 'Female', 3]], dtype=object)"
      ]
     },
     "execution_count": 20,
     "metadata": {},
     "output_type": "execute_result"
    }
   ],
   "source": [
    "#gives all values of columns\n",
    "data.values"
   ]
  },
  {
   "cell_type": "code",
   "execution_count": 21,
   "id": "08a319b7-4b62-485d-aff9-53189b358502",
   "metadata": {},
   "outputs": [
    {
     "data": {
      "text/plain": [
       "RangeIndex(start=0, stop=700, step=1)"
      ]
     },
     "execution_count": 21,
     "metadata": {},
     "output_type": "execute_result"
    }
   ],
   "source": [
    "#gives start ,stop and step index\n",
    "data.index"
   ]
  },
  {
   "cell_type": "code",
   "execution_count": 24,
   "id": "4b505991-5876-4008-a8c0-419fd58d9439",
   "metadata": {},
   "outputs": [
    {
     "data": {
      "text/html": [
       "<div>\n",
       "<style scoped>\n",
       "    .dataframe tbody tr th:only-of-type {\n",
       "        vertical-align: middle;\n",
       "    }\n",
       "\n",
       "    .dataframe tbody tr th {\n",
       "        vertical-align: top;\n",
       "    }\n",
       "\n",
       "    .dataframe thead th {\n",
       "        text-align: right;\n",
       "    }\n",
       "</style>\n",
       "<table border=\"1\" class=\"dataframe\">\n",
       "  <thead>\n",
       "    <tr style=\"text-align: right;\">\n",
       "      <th></th>\n",
       "      <th>Age</th>\n",
       "      <th>User Behavior Class</th>\n",
       "    </tr>\n",
       "  </thead>\n",
       "  <tbody>\n",
       "    <tr>\n",
       "      <th>0</th>\n",
       "      <td>40</td>\n",
       "      <td>4</td>\n",
       "    </tr>\n",
       "    <tr>\n",
       "      <th>1</th>\n",
       "      <td>47</td>\n",
       "      <td>3</td>\n",
       "    </tr>\n",
       "    <tr>\n",
       "      <th>2</th>\n",
       "      <td>42</td>\n",
       "      <td>2</td>\n",
       "    </tr>\n",
       "    <tr>\n",
       "      <th>3</th>\n",
       "      <td>20</td>\n",
       "      <td>3</td>\n",
       "    </tr>\n",
       "    <tr>\n",
       "      <th>4</th>\n",
       "      <td>31</td>\n",
       "      <td>3</td>\n",
       "    </tr>\n",
       "    <tr>\n",
       "      <th>...</th>\n",
       "      <td>...</td>\n",
       "      <td>...</td>\n",
       "    </tr>\n",
       "    <tr>\n",
       "      <th>695</th>\n",
       "      <td>22</td>\n",
       "      <td>2</td>\n",
       "    </tr>\n",
       "    <tr>\n",
       "      <th>696</th>\n",
       "      <td>59</td>\n",
       "      <td>4</td>\n",
       "    </tr>\n",
       "    <tr>\n",
       "      <th>697</th>\n",
       "      <td>50</td>\n",
       "      <td>2</td>\n",
       "    </tr>\n",
       "    <tr>\n",
       "      <th>698</th>\n",
       "      <td>44</td>\n",
       "      <td>1</td>\n",
       "    </tr>\n",
       "    <tr>\n",
       "      <th>699</th>\n",
       "      <td>23</td>\n",
       "      <td>3</td>\n",
       "    </tr>\n",
       "  </tbody>\n",
       "</table>\n",
       "<p>700 rows × 2 columns</p>\n",
       "</div>"
      ],
      "text/plain": [
       "     Age  User Behavior Class\n",
       "0     40                    4\n",
       "1     47                    3\n",
       "2     42                    2\n",
       "3     20                    3\n",
       "4     31                    3\n",
       "..   ...                  ...\n",
       "695   22                    2\n",
       "696   59                    4\n",
       "697   50                    2\n",
       "698   44                    1\n",
       "699   23                    3\n",
       "\n",
       "[700 rows x 2 columns]"
      ]
     },
     "execution_count": 24,
     "metadata": {},
     "output_type": "execute_result"
    }
   ],
   "source": [
    "#select a multiple columns\n",
    "data[['Age','User Behavior Class']]"
   ]
  },
  {
   "cell_type": "code",
   "execution_count": 25,
   "id": "af486276-2dbb-4ebb-868e-94cd1c988db6",
   "metadata": {},
   "outputs": [
    {
     "data": {
      "text/html": [
       "<div>\n",
       "<style scoped>\n",
       "    .dataframe tbody tr th:only-of-type {\n",
       "        vertical-align: middle;\n",
       "    }\n",
       "\n",
       "    .dataframe tbody tr th {\n",
       "        vertical-align: top;\n",
       "    }\n",
       "\n",
       "    .dataframe thead th {\n",
       "        text-align: right;\n",
       "    }\n",
       "</style>\n",
       "<table border=\"1\" class=\"dataframe\">\n",
       "  <thead>\n",
       "    <tr style=\"text-align: right;\">\n",
       "      <th></th>\n",
       "      <th>User ID</th>\n",
       "      <th>Device Model</th>\n",
       "      <th>Operating System</th>\n",
       "      <th>App Usage Time (min/day)</th>\n",
       "      <th>Screen On Time (hours/day)</th>\n",
       "      <th>Battery Drain (mAh/day)</th>\n",
       "      <th>Number of Apps Installed</th>\n",
       "      <th>Data Usage (MB/day)</th>\n",
       "      <th>Age</th>\n",
       "      <th>Gender</th>\n",
       "      <th>User Behavior Class</th>\n",
       "    </tr>\n",
       "  </thead>\n",
       "  <tbody>\n",
       "    <tr>\n",
       "      <th>1</th>\n",
       "      <td>2</td>\n",
       "      <td>OnePlus 9</td>\n",
       "      <td>Android</td>\n",
       "      <td>268</td>\n",
       "      <td>4.7</td>\n",
       "      <td>1331</td>\n",
       "      <td>42</td>\n",
       "      <td>944</td>\n",
       "      <td>47</td>\n",
       "      <td>Female</td>\n",
       "      <td>3</td>\n",
       "    </tr>\n",
       "    <tr>\n",
       "      <th>3</th>\n",
       "      <td>4</td>\n",
       "      <td>Google Pixel 5</td>\n",
       "      <td>Android</td>\n",
       "      <td>239</td>\n",
       "      <td>4.8</td>\n",
       "      <td>1676</td>\n",
       "      <td>56</td>\n",
       "      <td>871</td>\n",
       "      <td>20</td>\n",
       "      <td>Male</td>\n",
       "      <td>3</td>\n",
       "    </tr>\n",
       "    <tr>\n",
       "      <th>5</th>\n",
       "      <td>6</td>\n",
       "      <td>Google Pixel 5</td>\n",
       "      <td>Android</td>\n",
       "      <td>99</td>\n",
       "      <td>2.0</td>\n",
       "      <td>940</td>\n",
       "      <td>35</td>\n",
       "      <td>564</td>\n",
       "      <td>31</td>\n",
       "      <td>Male</td>\n",
       "      <td>2</td>\n",
       "    </tr>\n",
       "  </tbody>\n",
       "</table>\n",
       "</div>"
      ],
      "text/plain": [
       "   User ID    Device Model Operating System  App Usage Time (min/day)  \\\n",
       "1        2       OnePlus 9          Android                       268   \n",
       "3        4  Google Pixel 5          Android                       239   \n",
       "5        6  Google Pixel 5          Android                        99   \n",
       "\n",
       "   Screen On Time (hours/day)  Battery Drain (mAh/day)  \\\n",
       "1                         4.7                     1331   \n",
       "3                         4.8                     1676   \n",
       "5                         2.0                      940   \n",
       "\n",
       "   Number of Apps Installed  Data Usage (MB/day)  Age  Gender  \\\n",
       "1                        42                  944   47  Female   \n",
       "3                        56                  871   20    Male   \n",
       "5                        35                  564   31    Male   \n",
       "\n",
       "   User Behavior Class  \n",
       "1                    3  \n",
       "3                    3  \n",
       "5                    2  "
      ]
     },
     "execution_count": 25,
     "metadata": {},
     "output_type": "execute_result"
    }
   ],
   "source": [
    "#select a multiple row\n",
    "data.loc[[1,3,5]]"
   ]
  },
  {
   "cell_type": "code",
   "execution_count": 26,
   "id": "4c52d4ad-f71c-4775-a321-81b1a14385a8",
   "metadata": {},
   "outputs": [
    {
     "name": "stdout",
     "output_type": "stream",
     "text": [
      "\n",
      "Filter rows where Age > 20:\n",
      "     User ID        Device Model Operating System  App Usage Time (min/day)  \\\n",
      "0          1      Google Pixel 5          Android                       393   \n",
      "1          2           OnePlus 9          Android                       268   \n",
      "2          3        Xiaomi Mi 11          Android                       154   \n",
      "4          5           iPhone 12              iOS                       187   \n",
      "5          6      Google Pixel 5          Android                        99   \n",
      "..       ...                 ...              ...                       ...   \n",
      "695      696           iPhone 12              iOS                        92   \n",
      "696      697        Xiaomi Mi 11          Android                       316   \n",
      "697      698      Google Pixel 5          Android                        99   \n",
      "698      699  Samsung Galaxy S21          Android                        62   \n",
      "699      700           OnePlus 9          Android                       212   \n",
      "\n",
      "     Screen On Time (hours/day)  Battery Drain (mAh/day)  \\\n",
      "0                           6.4                     1872   \n",
      "1                           4.7                     1331   \n",
      "2                           4.0                      761   \n",
      "4                           4.3                     1367   \n",
      "5                           2.0                      940   \n",
      "..                          ...                      ...   \n",
      "695                         3.9                     1082   \n",
      "696                         6.8                     1965   \n",
      "697                         3.1                      942   \n",
      "698                         1.7                      431   \n",
      "699                         5.4                     1306   \n",
      "\n",
      "     Number of Apps Installed  Data Usage (MB/day)  Age  Gender  \\\n",
      "0                          67                 1122   40    Male   \n",
      "1                          42                  944   47  Female   \n",
      "2                          32                  322   42    Male   \n",
      "4                          58                  988   31  Female   \n",
      "5                          35                  564   31    Male   \n",
      "..                        ...                  ...  ...     ...   \n",
      "695                        26                  381   22    Male   \n",
      "696                        68                 1201   59    Male   \n",
      "697                        22                  457   50  Female   \n",
      "698                        13                  224   44    Male   \n",
      "699                        49                  828   23  Female   \n",
      "\n",
      "     User Behavior Class  \n",
      "0                      4  \n",
      "1                      3  \n",
      "2                      2  \n",
      "4                      3  \n",
      "5                      2  \n",
      "..                   ...  \n",
      "695                    2  \n",
      "696                    4  \n",
      "697                    2  \n",
      "698                    1  \n",
      "699                    3  \n",
      "\n",
      "[660 rows x 11 columns]\n"
     ]
    }
   ],
   "source": [
    "# Filter rows where Age > 20\n",
    "print(\"\\nFilter rows where Age > 20:\")\n",
    "filtered_df =data[data['Age'] > 20]\n",
    "print(filtered_df)"
   ]
  },
  {
   "cell_type": "code",
   "execution_count": 27,
   "id": "afa408a0-a46a-4cb2-b606-50eb7e490509",
   "metadata": {},
   "outputs": [
    {
     "name": "stdout",
     "output_type": "stream",
     "text": [
      "\n",
      "Sort by Age:\n",
      "     User ID    Device Model Operating System  App Usage Time (min/day)  \\\n",
      "686      687  Google Pixel 5          Android                       335   \n",
      "685      686    Xiaomi Mi 11          Android                       412   \n",
      "258      259    Xiaomi Mi 11          Android                       201   \n",
      "569      570  Google Pixel 5          Android                       404   \n",
      "561      562    Xiaomi Mi 11          Android                       121   \n",
      "..       ...             ...              ...                       ...   \n",
      "225      226    Xiaomi Mi 11          Android                       511   \n",
      "192      193       iPhone 12              iOS                       432   \n",
      "627      628       iPhone 12              iOS                       227   \n",
      "620      621       iPhone 12              iOS                       218   \n",
      "660      661  Google Pixel 5          Android                        50   \n",
      "\n",
      "     Screen On Time (hours/day)  Battery Drain (mAh/day)  \\\n",
      "686                         7.7                     2037   \n",
      "685                         6.6                     1859   \n",
      "258                         4.0                     1791   \n",
      "569                         6.6                     2181   \n",
      "561                         2.1                     1188   \n",
      "..                          ...                      ...   \n",
      "225                        10.8                     2712   \n",
      "192                         7.2                     1822   \n",
      "627                         5.2                     1446   \n",
      "620                         5.0                     1475   \n",
      "660                         1.5                      387   \n",
      "\n",
      "     Number of Apps Installed  Data Usage (MB/day)  Age  Gender  \\\n",
      "686                        68                 1007   18    Male   \n",
      "685                        67                 1393   18    Male   \n",
      "258                        50                  914   18    Male   \n",
      "569                        77                 1327   18    Male   \n",
      "561                        21                  578   18    Male   \n",
      "..                        ...                  ...  ...     ...   \n",
      "225                        97                 2438   59  Female   \n",
      "192                        63                 1127   59  Female   \n",
      "627                        46                  920   59    Male   \n",
      "620                        46                  972   59  Female   \n",
      "660                        12                  146   59    Male   \n",
      "\n",
      "     User Behavior Class  \n",
      "686                    4  \n",
      "685                    4  \n",
      "258                    3  \n",
      "569                    4  \n",
      "561                    2  \n",
      "..                   ...  \n",
      "225                    5  \n",
      "192                    4  \n",
      "627                    3  \n",
      "620                    3  \n",
      "660                    1  \n",
      "\n",
      "[700 rows x 11 columns]\n"
     ]
    }
   ],
   "source": [
    "\n",
    "print(\"\\nSort by Age:\")                      # Sort by Age\n",
    "sorted_df = data.sort_values(by='Age')\n",
    "print(sorted_df)"
   ]
  },
  {
   "cell_type": "code",
   "execution_count": 29,
   "id": "09782f75-2609-445c-930a-f72ab67d9cd3",
   "metadata": {},
   "outputs": [
    {
     "name": "stdout",
     "output_type": "stream",
     "text": [
      "     User ID        Device Model Operating System  App Usage Time (min/day)  \\\n",
      "0          1      Google Pixel 5          Android                       393   \n",
      "1          2           OnePlus 9          Android                       268   \n",
      "2          3        Xiaomi Mi 11          Android                       154   \n",
      "3          4      Google Pixel 5          Android                       239   \n",
      "4          5           iPhone 12              iOS                       187   \n",
      "..       ...                 ...              ...                       ...   \n",
      "696      697        Xiaomi Mi 11          Android                       316   \n",
      "697      698      Google Pixel 5          Android                        99   \n",
      "698      699  Samsung Galaxy S21          Android                        62   \n",
      "699      700           OnePlus 9          Android                       212   \n",
      "700      701  Samsung Galaxy S21          Android                       305   \n",
      "\n",
      "     Screen On Time (hours/day)  Battery Drain (mAh/day)  \\\n",
      "0                           6.4                     1872   \n",
      "1                           4.7                     1331   \n",
      "2                           4.0                      761   \n",
      "3                           4.8                     1676   \n",
      "4                           4.3                     1367   \n",
      "..                          ...                      ...   \n",
      "696                         6.8                     1965   \n",
      "697                         3.1                      942   \n",
      "698                         1.7                      431   \n",
      "699                         5.4                     1306   \n",
      "700                         5.5                     1500   \n",
      "\n",
      "     Number of Apps Installed  Data Usage (MB/day)  Age  Gender  \\\n",
      "0                          67                 1122   40    Male   \n",
      "1                          42                  944   47  Female   \n",
      "2                          32                  322   42    Male   \n",
      "3                          56                  871   20    Male   \n",
      "4                          58                  988   31  Female   \n",
      "..                        ...                  ...  ...     ...   \n",
      "696                        68                 1201   59    Male   \n",
      "697                        22                  457   50  Female   \n",
      "698                        13                  224   44    Male   \n",
      "699                        49                  828   23  Female   \n",
      "700                        60                  800   25  Female   \n",
      "\n",
      "     User Behavior Class  \n",
      "0                      4  \n",
      "1                      3  \n",
      "2                      2  \n",
      "3                      3  \n",
      "4                      3  \n",
      "..                   ...  \n",
      "696                    4  \n",
      "697                    2  \n",
      "698                    1  \n",
      "699                    3  \n",
      "700                    3  \n",
      "\n",
      "[701 rows x 11 columns]\n"
     ]
    }
   ],
   "source": [
    "# Define the new row as a dictionary\n",
    "new_row = {\n",
    "    'User ID': 701,'Device Model': 'Samsung Galaxy S21','Operating System': 'Android','App Usage Time (min/day)': 305,\n",
    "    'Screen On Time (hours/day)': 5.5, 'Battery Drain (mAh/day)': 1500,'Number of Apps Installed': 60,\n",
    "    'Data Usage (MB/day)': 800, 'Age': 25,'Gender': 'Female','User Behavior Class': 3\n",
    "}\n",
    "# Add the new row using loc\n",
    "data.loc[len(data)] = new_row\n",
    "# Display the updated DataFrame\n",
    "print(data)"
   ]
  },
  {
   "cell_type": "code",
   "execution_count": 35,
   "id": "3ef037b1-464d-4113-a29c-81a974932256",
   "metadata": {},
   "outputs": [
    {
     "name": "stdout",
     "output_type": "stream",
     "text": [
      "     User ID        Device Model Operating System  App Usage Time (min/day)  \\\n",
      "0          1      Google Pixel 5          Android                       393   \n",
      "1          2           OnePlus 9          Android                       268   \n",
      "2          3        Xiaomi Mi 11          Android                       154   \n",
      "3          4      Google Pixel 5          Android                       239   \n",
      "4          5           iPhone 12              iOS                       187   \n",
      "..       ...                 ...              ...                       ...   \n",
      "696      697        Xiaomi Mi 11          Android                       316   \n",
      "697      698      Google Pixel 5          Android                        99   \n",
      "698      699  Samsung Galaxy S21          Android                        62   \n",
      "699      700           OnePlus 9          Android                       212   \n",
      "700      701  Samsung Galaxy S21          Android                       305   \n",
      "\n",
      "     Battery Drain (mAh/day)  Number of Apps Installed  Data Usage (MB/day)  \\\n",
      "0                       1872                        67                 1122   \n",
      "1                       1331                        42                  944   \n",
      "2                        761                        32                  322   \n",
      "3                       1676                        56                  871   \n",
      "4                       1367                        58                  988   \n",
      "..                       ...                       ...                  ...   \n",
      "696                     1965                        68                 1201   \n",
      "697                      942                        22                  457   \n",
      "698                      431                        13                  224   \n",
      "699                     1306                        49                  828   \n",
      "700                     1500                        60                  800   \n",
      "\n",
      "     Age  Gender  \n",
      "0     40    Male  \n",
      "1     47  Female  \n",
      "2     42    Male  \n",
      "3     20    Male  \n",
      "4     31  Female  \n",
      "..   ...     ...  \n",
      "696   59    Male  \n",
      "697   50  Female  \n",
      "698   44    Male  \n",
      "699   23  Female  \n",
      "700   25  Female  \n",
      "\n",
      "[701 rows x 9 columns]\n"
     ]
    }
   ],
   "source": [
    "# Dropping multiple columns\n",
    "data = data.drop(columns=['User Behavior Class', 'Screen On Time (hours/day)'])\n",
    "\n",
    "# Display the updated DataFrame\n",
    "print(data)"
   ]
  },
  {
   "cell_type": "code",
   "execution_count": null,
   "id": "e89a5f05-2808-45ed-8247-4d0f8252b90c",
   "metadata": {},
   "outputs": [],
   "source": [
    "import pandas as pd         # Import pandas for data manipulation and analysis\n",
    "import numpy as np          # Import numpy for numerical computations\n",
    "import matplotlib.pyplot as plt  # Import matplotlib for plotting\n",
    "import seaborn as sns       # Import seaborn for enhanced statistical plots\n",
    "%matplotlib inline          # Display matplotlib plots inline in Jupyter notebooks\n"
   ]
  },
  {
   "cell_type": "code",
   "execution_count": 26,
   "id": "95efb02c-63ac-4cb4-9b13-3109e2d67cbb",
   "metadata": {},
   "outputs": [
    {
     "name": "stdout",
     "output_type": "stream",
     "text": [
      "     User ID        Device Model Operating System  App Usage Time (min/day)  \\\n",
      "0          1      Google Pixel 5          Android                       393   \n",
      "1          2           OnePlus 9          Android                       268   \n",
      "2          3        Xiaomi Mi 11          Android                       154   \n",
      "3          4      Google Pixel 5          Android                       239   \n",
      "4          5           iPhone 12              iOS                       187   \n",
      "..       ...                 ...              ...                       ...   \n",
      "695      696           iPhone 12              iOS                        92   \n",
      "696      697        Xiaomi Mi 11          Android                       316   \n",
      "697      698      Google Pixel 5          Android                        99   \n",
      "698      699  Samsung Galaxy S21          Android                        62   \n",
      "699      700           OnePlus 9          Android                       212   \n",
      "\n",
      "     Screen On Time (hours/day)  Battery Drain (mAh/day)  \\\n",
      "0                           6.4                     1872   \n",
      "1                           4.7                     1331   \n",
      "2                           4.0                      761   \n",
      "3                           4.8                     1676   \n",
      "4                           4.3                     1367   \n",
      "..                          ...                      ...   \n",
      "695                         3.9                     1082   \n",
      "696                         6.8                     1965   \n",
      "697                         3.1                      942   \n",
      "698                         1.7                      431   \n",
      "699                         5.4                     1306   \n",
      "\n",
      "     Number of Apps Installed  Data Usage (MB/day)  Age  Gender  \\\n",
      "0                          67                 1122   40    Male   \n",
      "1                          42                  944   47  Female   \n",
      "2                          32                  322   42    Male   \n",
      "3                          56                  871   20    Male   \n",
      "4                          58                  988   31  Female   \n",
      "..                        ...                  ...  ...     ...   \n",
      "695                        26                  381   22    Male   \n",
      "696                        68                 1201   59    Male   \n",
      "697                        22                  457   50  Female   \n",
      "698                        13                  224   44    Male   \n",
      "699                        49                  828   23  Female   \n",
      "\n",
      "     User Behavior Class  \n",
      "0                      4  \n",
      "1                      3  \n",
      "2                      2  \n",
      "3                      3  \n",
      "4                      3  \n",
      "..                   ...  \n",
      "695                    2  \n",
      "696                    4  \n",
      "697                    2  \n",
      "698                    1  \n",
      "699                    3  \n",
      "\n",
      "[700 rows x 11 columns]\n"
     ]
    }
   ],
   "source": [
    "data=pd.read_csv(\"C:/Users/a2z/OneDrive/Desktop/snehal/Data Science/Mini project/miniprojectdataset.csv\")\n",
    "print(data)"
   ]
  },
  {
   "cell_type": "code",
   "execution_count": 7,
   "id": "7c9d673f-d6e6-42c2-9f97-9de255ce7323",
   "metadata": {},
   "outputs": [
    {
     "name": "stdout",
     "output_type": "stream",
     "text": [
      "   User ID    Device Model Operating System  App Usage Time (min/day)  \\\n",
      "0        1  Google Pixel 5          Android                       393   \n",
      "1        2       OnePlus 9          Android                       268   \n",
      "2        3    Xiaomi Mi 11          Android                       154   \n",
      "3        4  Google Pixel 5          Android                       239   \n",
      "4        5       iPhone 12              iOS                       187   \n",
      "\n",
      "   Screen On Time (hours/day)  Battery Drain (mAh/day)  \\\n",
      "0                         6.4                     1872   \n",
      "1                         4.7                     1331   \n",
      "2                         4.0                      761   \n",
      "3                         4.8                     1676   \n",
      "4                         4.3                     1367   \n",
      "\n",
      "   Number of Apps Installed  Data Usage (MB/day)  Age  Gender  \\\n",
      "0                        67                 1122   40    Male   \n",
      "1                        42                  944   47  Female   \n",
      "2                        32                  322   42    Male   \n",
      "3                        56                  871   20    Male   \n",
      "4                        58                  988   31  Female   \n",
      "\n",
      "   User Behavior Class  \n",
      "0                    4  \n",
      "1                    3  \n",
      "2                    2  \n",
      "3                    3  \n",
      "4                    3  \n"
     ]
    }
   ],
   "source": [
    "print(data.head())  # Displays the first five rows of the DataFrame"
   ]
  },
  {
   "cell_type": "code",
   "execution_count": 8,
   "id": "d51b0146-e11d-4ab2-810e-284877b3c649",
   "metadata": {},
   "outputs": [
    {
     "data": {
      "text/plain": [
       "User ID                       700\n",
       "Device Model                    5\n",
       "Operating System                2\n",
       "App Usage Time (min/day)      387\n",
       "Screen On Time (hours/day)    108\n",
       "Battery Drain (mAh/day)       628\n",
       "Number of Apps Installed       86\n",
       "Data Usage (MB/day)           585\n",
       "Age                            42\n",
       "Gender                          2\n",
       "User Behavior Class             5\n",
       "dtype: int64"
      ]
     },
     "execution_count": 8,
     "metadata": {},
     "output_type": "execute_result"
    }
   ],
   "source": [
    "# to know unique values\n",
    "data.nunique()"
   ]
  },
  {
   "cell_type": "code",
   "execution_count": 9,
   "id": "b072757b-b3a5-490d-91b7-012e3966a70d",
   "metadata": {},
   "outputs": [
    {
     "data": {
      "text/plain": [
       "User ID                         int64\n",
       "Device Model                   object\n",
       "Operating System               object\n",
       "App Usage Time (min/day)        int64\n",
       "Screen On Time (hours/day)    float64\n",
       "Battery Drain (mAh/day)         int64\n",
       "Number of Apps Installed        int64\n",
       "Data Usage (MB/day)           float64\n",
       "Age                             int64\n",
       "Gender                         object\n",
       "User Behavior Class             int64\n",
       "dtype: object"
      ]
     },
     "execution_count": 9,
     "metadata": {},
     "output_type": "execute_result"
    }
   ],
   "source": [
    "# change the numeric type to categorical variables\n",
    "data['Data Usage (MB/day)'] = data['Data Usage (MB/day)'].astype('float')\n",
    "data.dtypes"
   ]
  },
  {
   "cell_type": "code",
   "execution_count": 12,
   "id": "3e21e609-686d-4d06-9305-59b246b464af",
   "metadata": {},
   "outputs": [
    {
     "name": "stdout",
     "output_type": "stream",
     "text": [
      "    User ID        Device Model Operating System App Usage Time (min/day)  \\\n",
      "0         1      Google Pixel 5          Android                      393   \n",
      "1         2           OnePlus 9          Android                      268   \n",
      "2         3        Xiaomi Mi 11          Android                      154   \n",
      "3         4      Google Pixel 5          Android                      239   \n",
      "4         5           iPhone 12              iOS                      187   \n",
      "..      ...                 ...              ...                      ...   \n",
      "695     696           iPhone 12              iOS                       92   \n",
      "696     697        Xiaomi Mi 11          Android                      316   \n",
      "697     698      Google Pixel 5          Android                       99   \n",
      "698     699  Samsung Galaxy S21          Android                       62   \n",
      "699     700           OnePlus 9          Android                      212   \n",
      "\n",
      "    Screen On Time (hours/day) Battery Drain (mAh/day)  \\\n",
      "0                          6.4                    1872   \n",
      "1                          4.7                    1331   \n",
      "2                          4.0                     761   \n",
      "3                          4.8                    1676   \n",
      "4                          4.3                    1367   \n",
      "..                         ...                     ...   \n",
      "695                        3.9                    1082   \n",
      "696                        6.8                    1965   \n",
      "697                        3.1                     942   \n",
      "698                        1.7                     431   \n",
      "699                        5.4                    1306   \n",
      "\n",
      "    Number of Apps Installed Data Usage (MB/day) Age  Gender  \\\n",
      "0                         67              1122.0  40    Male   \n",
      "1                         42               944.0  47  Female   \n",
      "2                         32               322.0  42    Male   \n",
      "3                         56               871.0  20    Male   \n",
      "4                         58               988.0  31  Female   \n",
      "..                       ...                 ...  ..     ...   \n",
      "695                       26               381.0  22    Male   \n",
      "696                       68              1201.0  59    Male   \n",
      "697                       22               457.0  50  Female   \n",
      "698                       13               224.0  44    Male   \n",
      "699                       49               828.0  23  Female   \n",
      "\n",
      "    User Behavior Class  \n",
      "0                     4  \n",
      "1                     3  \n",
      "2                     2  \n",
      "3                     3  \n",
      "4                     3  \n",
      "..                  ...  \n",
      "695                   2  \n",
      "696                   4  \n",
      "697                   2  \n",
      "698                   1  \n",
      "699                   3  \n",
      "\n",
      "[700 rows x 11 columns]\n"
     ]
    }
   ],
   "source": [
    "#change the numeric type of categorical data\n",
    "# Replace numeric values with categorical labels\n",
    "data['User ID'] = data['User ID'].astype('object')\n",
    "data['App Usage Time (min/day)'] = data['App Usage Time (min/day)'].astype('object')\n",
    "data['Screen On Time (hours/day)'] = data['Screen On Time (hours/day)'].astype('object')\n",
    "data['Battery Drain (mAh/day)'] = data['Battery Drain (mAh/day)'].astype('object')\n",
    "data['Number of Apps Installed'] =data['Number of Apps Installed'].astype('object')\n",
    "data['Data Usage (MB/day)'] = data['Data Usage (MB/day)'].astype('object')\n",
    "data['Age'] = data['Age'].astype('object')\n",
    "data['User Behavior Class'] = data['User Behavior Class'].astype('object')\n",
    "\n",
    "data.dtypes\n",
    "# Display the updated DataFrame\n",
    "print(data)"
   ]
  },
  {
   "cell_type": "code",
   "execution_count": 14,
   "id": "8782748b-6a7d-4205-9e9c-4e8cda93775a",
   "metadata": {
    "scrolled": true
   },
   "outputs": [
    {
     "data": {
      "text/plain": [
       "User ID                       0\n",
       "Device Model                  0\n",
       "Operating System              0\n",
       "App Usage Time (min/day)      0\n",
       "Screen On Time (hours/day)    0\n",
       "Battery Drain (mAh/day)       0\n",
       "Number of Apps Installed      0\n",
       "Data Usage (MB/day)           0\n",
       "Age                           0\n",
       "Gender                        0\n",
       "User Behavior Class           0\n",
       "dtype: int64"
      ]
     },
     "execution_count": 14,
     "metadata": {},
     "output_type": "execute_result"
    }
   ],
   "source": [
    "data.isnull().sum()  # Counts the number of missing (null) values in each column"
   ]
  },
  {
   "cell_type": "code",
   "execution_count": 27,
   "id": "1480542c-1d09-49da-8298-f334da43e25e",
   "metadata": {},
   "outputs": [
    {
     "data": {
      "text/plain": [
       "array(['Google Pixel 5', 'OnePlus 9', 'Xiaomi Mi 11', 'iPhone 12',\n",
       "       'Samsung Galaxy S21'], dtype=object)"
      ]
     },
     "execution_count": 27,
     "metadata": {},
     "output_type": "execute_result"
    }
   ],
   "source": [
    "\n",
    "data['Device Model'].unique()  # Lists the unique values in the 'Device Model' column\n"
   ]
  },
  {
   "cell_type": "code",
   "execution_count": 28,
   "id": "1e2e596e-796e-4643-9e41-aef8b37744af",
   "metadata": {},
   "outputs": [
    {
     "name": "stdout",
     "output_type": "stream",
     "text": [
      "     User ID    Device Model Operating System  App Usage Time (min/day)  \\\n",
      "1          2       OnePlus 9          Android                       268   \n",
      "3          4  Google Pixel 5          Android                       239   \n",
      "4          5       iPhone 12              iOS                       187   \n",
      "11        12       OnePlus 9          Android                       215   \n",
      "13        14    Xiaomi Mi 11          Android                       215   \n",
      "..       ...             ...              ...                       ...   \n",
      "682      683    Xiaomi Mi 11          Android                       190   \n",
      "684      685  Google Pixel 5          Android                       218   \n",
      "688      689  Google Pixel 5          Android                       261   \n",
      "690      691  Google Pixel 5          Android                       195   \n",
      "699      700       OnePlus 9          Android                       212   \n",
      "\n",
      "     Screen On Time (hours/day)  Battery Drain (mAh/day)  \\\n",
      "1                           4.7                     1331   \n",
      "3                           4.8                     1676   \n",
      "4                           4.3                     1367   \n",
      "11                          5.5                     1690   \n",
      "13                          4.9                     1662   \n",
      "..                          ...                      ...   \n",
      "682                         5.5                     1718   \n",
      "684                         4.0                     1221   \n",
      "688                         4.9                     1589   \n",
      "690                         5.7                     1447   \n",
      "699                         5.4                     1306   \n",
      "\n",
      "     Number of Apps Installed  Data Usage (MB/day)  Age  Gender  \\\n",
      "1                          42                  944   47  Female   \n",
      "3                          56                  871   20    Male   \n",
      "4                          58                  988   31  Female   \n",
      "11                         47                  641   24    Male   \n",
      "13                         43                  857   43    Male   \n",
      "..                        ...                  ...  ...     ...   \n",
      "682                        58                  815   42    Male   \n",
      "684                        47                  822   25    Male   \n",
      "688                        56                  824   52  Female   \n",
      "690                        48                  679   30    Male   \n",
      "699                        49                  828   23  Female   \n",
      "\n",
      "     User Behavior Class  \n",
      "1                      3  \n",
      "3                      3  \n",
      "4                      3  \n",
      "11                     3  \n",
      "13                     3  \n",
      "..                   ...  \n",
      "682                    3  \n",
      "684                    3  \n",
      "688                    3  \n",
      "690                    3  \n",
      "699                    3  \n",
      "\n",
      "[143 rows x 11 columns]\n"
     ]
    }
   ],
   "source": [
    "filtered_data = data[data['User Behavior Class'] == 3]  # Filters the DataFrame for rows where 'User Behavior Class ' equals 3\n",
    "print(filtered_data)  # Displays the filtered DataFrame\n"
   ]
  },
  {
   "cell_type": "code",
   "execution_count": 30,
   "id": "b30afda8-225c-4814-864a-0e029f222314",
   "metadata": {},
   "outputs": [],
   "source": [
    "data.loc[data['User Behavior Class'] == 4, 'User Behavior Class'] = np.nan  # Replaces values of 4 in 'Single Epithelial Cell Size' with NaN\n"
   ]
  },
  {
   "cell_type": "code",
   "execution_count": 31,
   "id": "0581400c-0d26-4498-9ca9-406117fc8c99",
   "metadata": {},
   "outputs": [
    {
     "data": {
      "text/plain": [
       "array([nan,  3.,  2.,  5.,  1.])"
      ]
     },
     "execution_count": 31,
     "metadata": {},
     "output_type": "execute_result"
    }
   ],
   "source": [
    "data['User Behavior Class'].unique()  # Lists the unique values in the 'User Behavior Class' column\n"
   ]
  },
  {
   "cell_type": "code",
   "execution_count": 32,
   "id": "f0889b2b-eba5-4a22-81a3-aad1fac1e7f6",
   "metadata": {},
   "outputs": [
    {
     "name": "stdout",
     "output_type": "stream",
     "text": [
      "['Android' 'iOS']\n"
     ]
    }
   ],
   "source": [
    "Operating_System= data['Operating System'].unique()\n",
    "\n",
    "# Print the unique values\n",
    "print(Operating_System)\n"
   ]
  },
  {
   "cell_type": "code",
   "execution_count": 33,
   "id": "d90aeb8f-aa4d-4af3-b8f9-105da6369e5d",
   "metadata": {},
   "outputs": [
    {
     "name": "stdout",
     "output_type": "stream",
     "text": [
      "Device Model\n",
      "Xiaomi Mi 11          146\n",
      "iPhone 12             146\n",
      "Google Pixel 5        142\n",
      "OnePlus 9             133\n",
      "Samsung Galaxy S21    133\n",
      "Name: count, dtype: int64\n"
     ]
    }
   ],
   "source": [
    "# Count occurrences of each unique value in the Device Model column\n",
    "Device_Model= data['Device Model'].value_counts()\n",
    "\n",
    "# Print the counts\n",
    "print(Device_Model)"
   ]
  },
  {
   "cell_type": "code",
   "execution_count": 35,
   "id": "bc4bbe1f-48da-44f5-9788-72f2279cb6ce",
   "metadata": {},
   "outputs": [],
   "source": [
    "# Replace values of User Behavior Class equal to 0 with NaN\n",
    "data.loc[data['User Behavior Class'] == 0, 'User Behavior Class'] = np.nan"
   ]
  },
  {
   "cell_type": "code",
   "execution_count": 36,
   "id": "11449ea4-9534-490d-96e9-505045596df6",
   "metadata": {},
   "outputs": [
    {
     "data": {
      "text/plain": [
       "User ID                         0\n",
       "Device Model                    0\n",
       "Operating System                0\n",
       "App Usage Time (min/day)        0\n",
       "Screen On Time (hours/day)      0\n",
       "Battery Drain (mAh/day)         0\n",
       "Number of Apps Installed        0\n",
       "Data Usage (MB/day)             0\n",
       "Age                             0\n",
       "Gender                          0\n",
       "User Behavior Class           139\n",
       "dtype: int64"
      ]
     },
     "execution_count": 36,
     "metadata": {},
     "output_type": "execute_result"
    }
   ],
   "source": [
    "data.isna().sum()"
   ]
  },
  {
   "cell_type": "code",
   "execution_count": 37,
   "id": "e7bd3063-fa3c-4b09-8521-6eecf3776bdf",
   "metadata": {},
   "outputs": [
    {
     "data": {
      "text/plain": [
       "User ID                                    1\n",
       "Device Model                  Google Pixel 5\n",
       "Operating System                     Android\n",
       "App Usage Time (min/day)                 393\n",
       "Screen On Time (hours/day)               6.4\n",
       "Battery Drain (mAh/day)                 1872\n",
       "Number of Apps Installed                  67\n",
       "Data Usage (MB/day)                     1122\n",
       "Age                                       40\n",
       "Gender                                  Male\n",
       "User Behavior Class                      NaN\n",
       "Name: 0, dtype: object"
      ]
     },
     "execution_count": 37,
     "metadata": {},
     "output_type": "execute_result"
    }
   ],
   "source": [
    "data.iloc[0]  # Retrieves the first row of the DataFrame\n"
   ]
  },
  {
   "cell_type": "code",
   "execution_count": 38,
   "id": "ec26f759-3555-4bfa-9caf-eef0d34e65b7",
   "metadata": {},
   "outputs": [
    {
     "name": "stdout",
     "output_type": "stream",
     "text": [
      "     User ID  Device Model Operating System  App Usage Time (min/day)  \\\n",
      "0          1  Xiaomi Mi 11          Android                      64.0   \n",
      "1          2     iPhone 12              NaN                       NaN   \n",
      "2          3           NaN              NaN                       NaN   \n",
      "3          4           NaN              NaN                       NaN   \n",
      "4          5           NaN              NaN                       NaN   \n",
      "..       ...           ...              ...                       ...   \n",
      "695      696           NaN              NaN                       NaN   \n",
      "696      697           NaN              NaN                       NaN   \n",
      "697      698           NaN              NaN                       NaN   \n",
      "698      699           NaN              NaN                       NaN   \n",
      "699      700           NaN              NaN                       NaN   \n",
      "\n",
      "     Screen On Time (hours/day)  Battery Drain (mAh/day)  \\\n",
      "0                           1.6                    490.0   \n",
      "1                           NaN                      NaN   \n",
      "2                           NaN                      NaN   \n",
      "3                           NaN                      NaN   \n",
      "4                           NaN                      NaN   \n",
      "..                          ...                      ...   \n",
      "695                         NaN                      NaN   \n",
      "696                         NaN                      NaN   \n",
      "697                         NaN                      NaN   \n",
      "698                         NaN                      NaN   \n",
      "699                         NaN                      NaN   \n",
      "\n",
      "     Number of Apps Installed  Data Usage (MB/day)   Age Gender  \\\n",
      "0                        10.0                122.0  34.0   Male   \n",
      "1                        16.0                284.0  51.0    NaN   \n",
      "2                         NaN                  NaN   NaN    NaN   \n",
      "3                         NaN                  NaN   NaN    NaN   \n",
      "4                         NaN                  NaN   NaN    NaN   \n",
      "..                        ...                  ...   ...    ...   \n",
      "695                       NaN                  NaN   NaN    NaN   \n",
      "696                       NaN                  NaN   NaN    NaN   \n",
      "697                       NaN                  NaN   NaN    NaN   \n",
      "698                       NaN                  NaN   NaN    NaN   \n",
      "699                       NaN                  NaN   NaN    NaN   \n",
      "\n",
      "     User Behavior Class  \n",
      "0                    2.0  \n",
      "1                    NaN  \n",
      "2                    NaN  \n",
      "3                    NaN  \n",
      "4                    NaN  \n",
      "..                   ...  \n",
      "695                  NaN  \n",
      "696                  NaN  \n",
      "697                  NaN  \n",
      "698                  NaN  \n",
      "699                  NaN  \n",
      "\n",
      "[700 rows x 11 columns]\n",
      "User ID                                  1\n",
      "Device Model                  Xiaomi Mi 11\n",
      "Operating System                   Android\n",
      "App Usage Time (min/day)              64.0\n",
      "Screen On Time (hours/day)             1.6\n",
      "Battery Drain (mAh/day)              490.0\n",
      "Number of Apps Installed              10.0\n",
      "Data Usage (MB/day)                  122.0\n",
      "Age                                   34.0\n",
      "Gender                                Male\n",
      "User Behavior Class                    2.0\n",
      "Name: 0, dtype: object\n"
     ]
    }
   ],
   "source": [
    "print(data.mode())  # Displays the mode (most frequent value) for each column in the DataFrame\n",
    "print(data.mode().iloc[0])  # Displays the first mode value for each column\n"
   ]
  },
  {
   "cell_type": "code",
   "execution_count": 40,
   "id": "8d7bb788-c30c-483e-bce1-ac84631f004c",
   "metadata": {},
   "outputs": [
    {
     "name": "stdout",
     "output_type": "stream",
     "text": [
      "User ID                       0\n",
      "Device Model                  0\n",
      "Operating System              0\n",
      "App Usage Time (min/day)      0\n",
      "Screen On Time (hours/day)    0\n",
      "Battery Drain (mAh/day)       0\n",
      "Number of Apps Installed      0\n",
      "Data Usage (MB/day)           0\n",
      "Age                           0\n",
      "Gender                        0\n",
      "User Behavior Class           0\n",
      "dtype: int64\n"
     ]
    }
   ],
   "source": [
    "\n",
    "data = data.fillna(data.mode().iloc[0])  # Fills NaN values with the mode (most frequent value) of each column\n",
    "print(data.isnull().sum())  # Displays the count of missing (NaN) values in each column after filling\n",
    "\n"
   ]
  },
  {
   "cell_type": "code",
   "execution_count": 41,
   "id": "356e62ee-795c-45f8-beaf-53328621c3de",
   "metadata": {},
   "outputs": [
    {
     "name": "stdout",
     "output_type": "stream",
     "text": [
      "Empty DataFrame\n",
      "Columns: [User ID, Device Model, Operating System, App Usage Time (min/day), Screen On Time (hours/day), Battery Drain (mAh/day), Number of Apps Installed, Data Usage (MB/day), Age, Gender, User Behavior Class]\n",
      "Index: []\n"
     ]
    }
   ],
   "source": [
    "duplicates = data[data.duplicated()]  # Identifies and stores duplicate rows in the DataFrame\n",
    "print(duplicates)  # Displays the duplicate rows\n"
   ]
  },
  {
   "cell_type": "code",
   "execution_count": 43,
   "id": "6926f147-b16e-491b-8d6e-034e13de26e5",
   "metadata": {},
   "outputs": [
    {
     "name": "stdout",
     "output_type": "stream",
     "text": [
      "     User ID        Device Model Operating System  App Usage Time (min/day)  \\\n",
      "0          1      Google Pixel 5          Android                       393   \n",
      "1          2           OnePlus 9          Android                       268   \n",
      "2          3        Xiaomi Mi 11          Android                       154   \n",
      "3          4      Google Pixel 5          Android                       239   \n",
      "4          5           iPhone 12              iOS                       187   \n",
      "..       ...                 ...              ...                       ...   \n",
      "695      696           iPhone 12              iOS                        92   \n",
      "696      697        Xiaomi Mi 11          Android                       316   \n",
      "697      698      Google Pixel 5          Android                        99   \n",
      "698      699  Samsung Galaxy S21          Android                        62   \n",
      "699      700           OnePlus 9          Android                       212   \n",
      "\n",
      "     Screen On Time (hours/day)  Battery Drain (mAh/day)  \\\n",
      "0                           6.4                     1872   \n",
      "1                           4.7                     1331   \n",
      "2                           4.0                      761   \n",
      "3                           4.8                     1676   \n",
      "4                           4.3                     1367   \n",
      "..                          ...                      ...   \n",
      "695                         3.9                     1082   \n",
      "696                         6.8                     1965   \n",
      "697                         3.1                      942   \n",
      "698                         1.7                      431   \n",
      "699                         5.4                     1306   \n",
      "\n",
      "     Number of Apps Installed  Data Usage (MB/day)  Age  Gender  \\\n",
      "0                          67                 1122   40    Male   \n",
      "1                          42                  944   47  Female   \n",
      "2                          32                  322   42    Male   \n",
      "3                          56                  871   20    Male   \n",
      "4                          58                  988   31  Female   \n",
      "..                        ...                  ...  ...     ...   \n",
      "695                        26                  381   22    Male   \n",
      "696                        68                 1201   59    Male   \n",
      "697                        22                  457   50  Female   \n",
      "698                        13                  224   44    Male   \n",
      "699                        49                  828   23  Female   \n",
      "\n",
      "     User Behavior Class  \n",
      "0                    2.0  \n",
      "1                    3.0  \n",
      "2                    2.0  \n",
      "3                    3.0  \n",
      "4                    3.0  \n",
      "..                   ...  \n",
      "695                  2.0  \n",
      "696                  2.0  \n",
      "697                  2.0  \n",
      "698                  1.0  \n",
      "699                  3.0  \n",
      "\n",
      "[700 rows x 11 columns]\n"
     ]
    }
   ],
   "source": [
    "data_cleaned = data.drop_duplicates()  # Removes duplicate rows from the DataFrame\n",
    "print(data_cleaned)  # Displays the DataFrame after duplicates have been removed\n"
   ]
  },
  {
   "cell_type": "code",
   "execution_count": 44,
   "id": "d3752b10-140f-4a62-862e-9e9b3475e649",
   "metadata": {},
   "outputs": [
    {
     "name": "stdout",
     "output_type": "stream",
     "text": [
      "     User ID        Device Model Operating System  App Usage Time (min/day)  \\\n",
      "0          1      Google Pixel 5          Android                       393   \n",
      "1          2           OnePlus 9          Android                       268   \n",
      "2          3        Xiaomi Mi 11          Android                       154   \n",
      "3          4      Google Pixel 5          Android                       239   \n",
      "4          5           iPhone 12              iOS                       187   \n",
      "..       ...                 ...              ...                       ...   \n",
      "695      696           iPhone 12              iOS                        92   \n",
      "696      697        Xiaomi Mi 11          Android                       316   \n",
      "697      698      Google Pixel 5          Android                        99   \n",
      "698      699  Samsung Galaxy S21          Android                        62   \n",
      "699      700           OnePlus 9          Android                       212   \n",
      "\n",
      "     Screen On Time (hours/day)  Battery Drain (mAh/day)  \\\n",
      "0                           6.4                     1872   \n",
      "1                           4.7                     1331   \n",
      "2                           4.0                      761   \n",
      "3                           4.8                     1676   \n",
      "4                           4.3                     1367   \n",
      "..                          ...                      ...   \n",
      "695                         3.9                     1082   \n",
      "696                         6.8                     1965   \n",
      "697                         3.1                      942   \n",
      "698                         1.7                      431   \n",
      "699                         5.4                     1306   \n",
      "\n",
      "     Number of Apps Installed  Data Usage (MB/day)  Age  Gender  \\\n",
      "0                          67                 1122   40    Male   \n",
      "1                          42                  944   47  Female   \n",
      "2                          32                  322   42    Male   \n",
      "3                          56                  871   20    Male   \n",
      "4                          58                  988   31  Female   \n",
      "..                        ...                  ...  ...     ...   \n",
      "695                        26                  381   22    Male   \n",
      "696                        68                 1201   59    Male   \n",
      "697                        22                  457   50  Female   \n",
      "698                        13                  224   44    Male   \n",
      "699                        49                  828   23  Female   \n",
      "\n",
      "     User Behavior Class  \n",
      "0                      4  \n",
      "1                      3  \n",
      "2                      2  \n",
      "3                      3  \n",
      "4                      3  \n",
      "..                   ...  \n",
      "695                    2  \n",
      "696                    4  \n",
      "697                    2  \n",
      "698                    1  \n",
      "699                    3  \n",
      "\n",
      "[700 rows x 11 columns]\n"
     ]
    },
    {
     "data": {
      "image/png": "[encoded data removed]",
      "text/plain": [
       "<Figure size 640x480 with 1 Axes>"
      ]
     },
     "metadata": {},
     "output_type": "display_data"
    }
   ],
   "source": [
    "###Handling Outlier\n",
    "import pandas as pd\n",
    "import numpy as np\n",
    "import matplotlib.pyplot as plt\n",
    "import seaborn as sns\n",
    "\n",
    "# Load the dataset\n",
    "data=pd.read_csv(\"C:/Users/a2z/OneDrive/Desktop/snehal/Data Science/Mini project/miniprojectdataset.csv\")\n",
    "print(data)\n",
    "\n",
    "# Plot a boxplot to visualize potential outliers\n",
    "sns.boxplot(data['App Usage Time (min/day)'])\n",
    "plt.title(\"Boxplot of App Usage Time (min/day)\")\n",
    "plt.show()"
   ]
  },
  {
   "cell_type": "code",
   "execution_count": 45,
   "id": "8f68ddab-0b64-4c1f-89a0-a2e951e41214",
   "metadata": {},
   "outputs": [
    {
     "name": "stdout",
     "output_type": "stream",
     "text": [
      "Z-scores for 'App Usage Time (min/day)':\n",
      " 0      0.687764\n",
      "1      0.017656\n",
      "2      0.660998\n",
      "3      0.181313\n",
      "4      0.474768\n",
      "         ...   \n",
      "695    1.010887\n",
      "696    0.253226\n",
      "697    0.971383\n",
      "698    1.180187\n",
      "699    0.333684\n",
      "Name: App Usage Time (min/day), Length: 700, dtype: float64\n",
      "\n",
      "Original data:\n",
      "      User ID        Device Model Operating System  App Usage Time (min/day)  \\\n",
      "0          1      Google Pixel 5          Android                       393   \n",
      "1          2           OnePlus 9          Android                       268   \n",
      "2          3        Xiaomi Mi 11          Android                       154   \n",
      "3          4      Google Pixel 5          Android                       239   \n",
      "4          5           iPhone 12              iOS                       187   \n",
      "..       ...                 ...              ...                       ...   \n",
      "695      696           iPhone 12              iOS                        92   \n",
      "696      697        Xiaomi Mi 11          Android                       316   \n",
      "697      698      Google Pixel 5          Android                        99   \n",
      "698      699  Samsung Galaxy S21          Android                        62   \n",
      "699      700           OnePlus 9          Android                       212   \n",
      "\n",
      "     Screen On Time (hours/day)  Battery Drain (mAh/day)  \\\n",
      "0                           6.4                     1872   \n",
      "1                           4.7                     1331   \n",
      "2                           4.0                      761   \n",
      "3                           4.8                     1676   \n",
      "4                           4.3                     1367   \n",
      "..                          ...                      ...   \n",
      "695                         3.9                     1082   \n",
      "696                         6.8                     1965   \n",
      "697                         3.1                      942   \n",
      "698                         1.7                      431   \n",
      "699                         5.4                     1306   \n",
      "\n",
      "     Number of Apps Installed  Data Usage (MB/day)  Age  Gender  \\\n",
      "0                          67                 1122   40    Male   \n",
      "1                          42                  944   47  Female   \n",
      "2                          32                  322   42    Male   \n",
      "3                          56                  871   20    Male   \n",
      "4                          58                  988   31  Female   \n",
      "..                        ...                  ...  ...     ...   \n",
      "695                        26                  381   22    Male   \n",
      "696                        68                 1201   59    Male   \n",
      "697                        22                  457   50  Female   \n",
      "698                        13                  224   44    Male   \n",
      "699                        49                  828   23  Female   \n",
      "\n",
      "     User Behavior Class  \n",
      "0                      4  \n",
      "1                      3  \n",
      "2                      2  \n",
      "3                      3  \n",
      "4                      3  \n",
      "..                   ...  \n",
      "695                    2  \n",
      "696                    4  \n",
      "697                    2  \n",
      "698                    1  \n",
      "699                    3  \n",
      "\n",
      "[700 rows x 11 columns]\n",
      "\n",
      "Data with Outliers Removed:\n",
      "      User ID    Device Model Operating System  App Usage Time (min/day)  \\\n",
      "0          1  Google Pixel 5          Android                       393   \n",
      "1          2       OnePlus 9          Android                       268   \n",
      "2          3    Xiaomi Mi 11          Android                       154   \n",
      "3          4  Google Pixel 5          Android                       239   \n",
      "4          5       iPhone 12              iOS                       187   \n",
      "..       ...             ...              ...                       ...   \n",
      "691      692       iPhone 12              iOS                       178   \n",
      "692      693    Xiaomi Mi 11          Android                       378   \n",
      "696      697    Xiaomi Mi 11          Android                       316   \n",
      "697      698  Google Pixel 5          Android                        99   \n",
      "699      700       OnePlus 9          Android                       212   \n",
      "\n",
      "     Screen On Time (hours/day)  Battery Drain (mAh/day)  \\\n",
      "0                           6.4                     1872   \n",
      "1                           4.7                     1331   \n",
      "2                           4.0                      761   \n",
      "3                           4.8                     1676   \n",
      "4                           4.3                     1367   \n",
      "..                          ...                      ...   \n",
      "691                         4.0                      856   \n",
      "692                         6.7                     1898   \n",
      "696                         6.8                     1965   \n",
      "697                         3.1                      942   \n",
      "699                         5.4                     1306   \n",
      "\n",
      "     Number of Apps Installed  Data Usage (MB/day)  Age  Gender  \\\n",
      "0                          67                 1122   40    Male   \n",
      "1                          42                  944   47  Female   \n",
      "2                          32                  322   42    Male   \n",
      "3                          56                  871   20    Male   \n",
      "4                          58                  988   31  Female   \n",
      "..                        ...                  ...  ...     ...   \n",
      "691                        37                  569   51  Female   \n",
      "692                        78                 1455   48  Female   \n",
      "696                        68                 1201   59    Male   \n",
      "697                        22                  457   50  Female   \n",
      "699                        49                  828   23  Female   \n",
      "\n",
      "     User Behavior Class  \n",
      "0                      4  \n",
      "1                      3  \n",
      "2                      2  \n",
      "3                      3  \n",
      "4                      3  \n",
      "..                   ...  \n",
      "691                    2  \n",
      "692                    4  \n",
      "696                    4  \n",
      "697                    2  \n",
      "699                    3  \n",
      "\n",
      "[396 rows x 11 columns]\n"
     ]
    }
   ],
   "source": [
    "# 1. Calculate the z-scores for the 'App Usage Time (min/day)' column\n",
    "z_scores = np.abs((data['App Usage Time (min/day)'] - data['App Usage Time (min/day)'].mean()) / data['App Usage Time (min/day)'].std())\n",
    "print(\"Z-scores for 'App Usage Time (min/day)':\\n\", z_scores)\n",
    "# 2. Set the threshold for outliers\n",
    "threshold = 1  # Adjust this as needed based on your tolerance for outliers\n",
    "\n",
    "# 3. Filter rows where the z-score is below the threshold\n",
    "outliers_removed = (z_scores < threshold)\n",
    "\n",
    "# 4. Apply the filter to the original data\n",
    "cleaned_data = data[outliers_removed]\n",
    "\n",
    "# Print results\n",
    "print(\"\\nOriginal data:\\n\", data)\n",
    "print(\"\\nData with Outliers Removed:\\n\", cleaned_data)\n"
   ]
  },
  {
   "cell_type": "code",
   "execution_count": 46,
   "id": "ff4df697-4b37-4f4a-9483-6a431a13f126",
   "metadata": {},
   "outputs": [
    {
     "data": {
      "image/png": "[encoded data removed]",
      "text/plain": [
       "<Figure size 640x480 with 1 Axes>"
      ]
     },
     "metadata": {},
     "output_type": "display_data"
    }
   ],
   "source": [
    "# Plotting the boxplot for a specific column (e.g., 'App Usage Time (min/day)')\n",
    "sns.boxplot(data=cleaned_data['App Usage Time (min/day)'])\n",
    "plt.title(\"Boxplot of App Usage Time (min/day) after Outliers Removal\")\n",
    "plt.show()\n"
   ]
  },
  {
   "cell_type": "code",
   "execution_count": 47,
   "id": "8b82abdb-8790-49f4-9b78-c61a3c4bbb81",
   "metadata": {},
   "outputs": [
    {
     "data": {
      "image/png": "[encoded data removed]",
      "text/plain": [
       "<Figure size 640x480 with 1 Axes>"
      ]
     },
     "metadata": {},
     "output_type": "display_data"
    }
   ],
   "source": [
    "# Boxplot for all numeric columns in cleaned_data\n",
    "sns.boxplot(data=cleaned_data.select_dtypes(include=[np.number]))\n",
    "plt.title(\"Boxplot of Numeric Columns after Outliers Removal\")\n",
    "plt.show()\n"
   ]
  },
  {
   "cell_type": "code",
   "execution_count": 58,
   "id": "9aa73011-3d87-4d84-9cfe-2771985a79f8",
   "metadata": {},
   "outputs": [
    {
     "data": {
      "image/png": "[encoded data removed]",
      "text/plain": [
       "<Figure size 600x400 with 2 Axes>"
      ]
     },
     "metadata": {},
     "output_type": "display_data"
    }
   ],
   "source": [
    "#Data Visualization\n",
    "#Corelation heatmap\n",
    "import pandas as pd\n",
    "import numpy as np\n",
    "import seaborn as sns\n",
    "import matplotlib.pyplot as plt\n",
    "%matplotlib inline\n",
    "\n",
    "\n",
    "# Assuming 'data' is your DataFrame\n",
    "corr = data[['App Usage Time (min/day)', 'Screen On Time (hours/day)', \n",
    "             'Battery Drain (mAh/day)', 'Number of Apps Installed', \n",
    "             'Data Usage (MB/day)', 'Age']].corr()\n",
    "\n",
    "# Plot the heatmap\n",
    "plt.figure(figsize=(6,4))\n",
    "sns.heatmap(corr, annot=True, cmap='coolwarm')\n",
    "plt.title(\"Correlation Heatmap\")\n",
    "plt.show()\n"
   ]
  },
  {
   "cell_type": "code",
   "execution_count": 59,
   "id": "85f34898-8be3-4c2b-9de4-f71c6ffac0cb",
   "metadata": {},
   "outputs": [
    {
     "data": {
      "image/png": "[encoded data removed]",
      "text/plain": [
       "<Figure size 500x500 with 1 Axes>"
      ]
     },
     "metadata": {},
     "output_type": "display_data"
    }
   ],
   "source": [
    "##plot\n",
    "plt.figure(figsize = (5,5))\n",
    "sns.boxplot(x = data[\"App Usage Time (min/day)\"],y = data[\"Battery Drain (mAh/day)\"])\n",
    "plt.title(\"App Usage Time vs Battery Drain\")\n",
    "plt.show()\n"
   ]
  },
  {
   "cell_type": "code",
   "execution_count": 66,
   "id": "31c866fb-b849-4053-94be-6ed3338ffc31",
   "metadata": {},
   "outputs": [
    {
     "data": {
      "image/png": "[encoded data removed]",
      "text/plain": [
       "<Figure size 500x500 with 1 Axes>"
      ]
     },
     "metadata": {},
     "output_type": "display_data"
    }
   ],
   "source": [
    "import pandas as pd\n",
    "import matplotlib.pyplot as plt\n",
    "import seaborn as sns\n",
    "\n",
    "# Set figure size\n",
    "plt.figure(figsize=(5, 5))\n",
    "\n",
    "# Create the bar plot\n",
    "sns.barplot(x='Age', y='Screen On Time (hours/day)', data=data)\n",
    "\n",
    "# Add title\n",
    "plt.title('Age vs. Screen On Time')\n",
    "\n",
    "# Show the plot\n",
    "plt.show()\n"
   ]
  },
  {
   "cell_type": "code",
   "execution_count": 67,
   "id": "717d7662-f1a6-410a-9aca-19af4f208220",
   "metadata": {},
   "outputs": [
    {
     "data": {
      "image/png": "[encoded data removed]",
      "text/plain": [
       "<Figure size 640x480 with 1 Axes>"
      ]
     },
     "metadata": {},
     "output_type": "display_data"
    }
   ],
   "source": [
    "# Plotting the histogram with KDE (Kernel Density Estimate)\n",
    "sns.histplot(data=data['Data Usage (MB/day)'], bins=10, kde=True)\n",
    "\n",
    "# Adding labels and title\n",
    "plt.xlabel('Data Usage (MB/day)')\n",
    "plt.ylabel('Frequency')\n",
    "plt.title('Distribution of Data Usage (MB/day)')\n",
    "\n",
    "# Show plot\n",
    "plt.show()\n"
   ]
  },
  {
   "cell_type": "code",
   "execution_count": 49,
   "id": "fc2553e0-25a2-48d1-ae84-9ca1453061f9",
   "metadata": {},
   "outputs": [
    {
     "name": "stdout",
     "output_type": "stream",
     "text": [
      "Sample mean: 271.12857142857143\n",
      "Population mean: 300\n",
      "T-test statistic: -4.310769879567369\n",
      "p-value: 1.8605787589276446e-05\n",
      "Reject the null hypothesis (p-value < 0.05)\n"
     ]
    }
   ],
   "source": [
    "###Hypothesis Testing\n",
    "import pandas as pd\n",
    "import scipy.stats as stats\n",
    "import numpy as np\n",
    "\n",
    "# Load the CSV file\n",
    "data=pd.read_csv(\"C:/Users/a2z/OneDrive/Desktop/snehal/Data Science/Mini project/miniprojectdataset.csv\")\n",
    "# Hypothesis testing function\n",
    "def hypothesis_test(sample, population_mean, alpha, known_population_std=None):\n",
    "    # Calculate sample mean and sample standard deviation\n",
    "    sample_mean = np.mean(sample)\n",
    "    sample_std = np.std(sample, ddof=1)\n",
    "    sample_size = len(sample)\n",
    "    \n",
    "    # Check if population standard deviation is known or unknown\n",
    "    if known_population_std is not None:\n",
    "        # Z-test (known population standard deviation)\n",
    "        z_stat = (sample_mean - population_mean) / (known_population_std / np.sqrt(sample_size))\n",
    "        p_value = 2 * (1 - stats.norm.cdf(abs(z_stat)))  # two-tailed p-value\n",
    "        test_stat = z_stat\n",
    "        test_type = \"Z-test\"\n",
    "    else:\n",
    "        # T-test (unknown population standard deviation)\n",
    "        t_stat = (sample_mean - population_mean) / (sample_std / np.sqrt(sample_size))\n",
    "        p_value = 2 * (1 - stats.t.cdf(abs(t_stat), df=sample_size - 1))  # two-tailed p-value\n",
    "        test_stat = t_stat\n",
    "        test_type = \"T-test\"\n",
    "\n",
    "    # Print details\n",
    "    print(f\"Sample mean: {sample_mean}\")\n",
    "    print(f\"Population mean: {population_mean}\")\n",
    "    print(f\"{test_type} statistic: {test_stat}\")\n",
    "    print(f\"p-value: {p_value}\")\n",
    "    \n",
    "    # Compare p-value with alpha\n",
    "    if p_value < alpha:\n",
    "        print(f\"Reject the null hypothesis (p-value < {alpha})\")\n",
    "    else:\n",
    "        print(f\"Fail to reject the null hypothesis (p-value >= {alpha})\")\n",
    "\n",
    "# Define parameters for hypothesis testing\n",
    "population_mean = 300  # Hypothesized population mean for App Usage Time (min/day)\n",
    "alpha = 0.05  # Significance level\n",
    "\n",
    "# Extract the 'App Usage Time (min/day)' column as the sample data\n",
    "sample_data = data['App Usage Time (min/day)']\n",
    "\n",
    "# Perform hypothesis test\n",
    "hypothesis_test(sample_data, population_mean, alpha, known_population_std=None)\n"
   ]
  },
  {
   "cell_type": "code",
   "execution_count": null,
   "id": "8ba318f4-cb0e-485e-b408-be06b9377fa8",
   "metadata": {},
   "outputs": [],
   "source": [
    "#Linear Rgeression\n",
    "import numpy as np\n",
    "import pandas as pd\n",
    "from sklearn.model_selection import train_test_split\n",
    "from sklearn.preprocessing import StandardScaler\n",
    "from sklearn.linear_model import LinearRegression\n",
    "from sklearn.metric import mean_absolute_error,mean_sqaured_error,r2_score"
   ]
  },
  {
   "cell_type": "code",
   "execution_count": 2,
   "id": "4de3e248-f41a-48c7-8d04-2987751da722",
   "metadata": {},
   "outputs": [
    {
     "name": "stdout",
     "output_type": "stream",
     "text": [
      "RangeIndex(start=0, stop=700, step=1)\n",
      "Index(['User ID', 'Device Model', 'Operating System',\n",
      "       'App Usage Time (min/day)', 'Screen On Time (hours/day)',\n",
      "       'Battery Drain (mAh/day)', 'Number of Apps Installed',\n",
      "       'Data Usage (MB/day)', 'Age', 'Gender', 'User Behavior Class'],\n",
      "      dtype='object')\n",
      "<class 'pandas.core.frame.DataFrame'>\n",
      "RangeIndex: 700 entries, 0 to 699\n",
      "Data columns (total 11 columns):\n",
      " #   Column                      Non-Null Count  Dtype  \n",
      "---  ------                      --------------  -----  \n",
      " 0   User ID                     700 non-null    int64  \n",
      " 1   Device Model                700 non-null    object \n",
      " 2   Operating System            700 non-null    object \n",
      " 3   App Usage Time (min/day)    700 non-null    int64  \n",
      " 4   Screen On Time (hours/day)  700 non-null    float64\n",
      " 5   Battery Drain (mAh/day)     700 non-null    int64  \n",
      " 6   Number of Apps Installed    700 non-null    int64  \n",
      " 7   Data Usage (MB/day)         700 non-null    int64  \n",
      " 8   Age                         700 non-null    int64  \n",
      " 9   Gender                      700 non-null    object \n",
      " 10  User Behavior Class         700 non-null    int64  \n",
      "dtypes: float64(1), int64(7), object(3)\n",
      "memory usage: 60.3+ KB\n",
      "None\n",
      "   User ID    Device Model Operating System  App Usage Time (min/day)  \\\n",
      "0        1  Google Pixel 5          Android                       393   \n",
      "1        2       OnePlus 9          Android                       268   \n",
      "2        3    Xiaomi Mi 11          Android                       154   \n",
      "3        4  Google Pixel 5          Android                       239   \n",
      "4        5       iPhone 12              iOS                       187   \n",
      "\n",
      "   Screen On Time (hours/day)  Battery Drain (mAh/day)  \\\n",
      "0                         6.4                     1872   \n",
      "1                         4.7                     1331   \n",
      "2                         4.0                      761   \n",
      "3                         4.8                     1676   \n",
      "4                         4.3                     1367   \n",
      "\n",
      "   Number of Apps Installed  Data Usage (MB/day)  Age  Gender  \\\n",
      "0                        67                 1122   40    Male   \n",
      "1                        42                  944   47  Female   \n",
      "2                        32                  322   42    Male   \n",
      "3                        56                  871   20    Male   \n",
      "4                        58                  988   31  Female   \n",
      "\n",
      "   User Behavior Class  \n",
      "0                    4  \n",
      "1                    3  \n",
      "2                    2  \n",
      "3                    3  \n",
      "4                    3  \n"
     ]
    }
   ],
   "source": [
    "data=pd.read_csv(\"C:/Users/a2z/OneDrive/Desktop/snehal/Data Science/Mini project/miniprojectdataset.csv\")\n",
    "print(data.index)\n",
    "print(data.columns)\n",
    "print(data.info())\n",
    "print(data.head())"
   ]
  },
  {
   "cell_type": "code",
   "execution_count": 3,
   "id": "d8dcead9-e553-40b1-9b5c-06eedbcf7459",
   "metadata": {},
   "outputs": [
    {
     "name": "stdout",
     "output_type": "stream",
     "text": [
      "User ID                       0\n",
      "Device Model                  0\n",
      "Operating System              0\n",
      "App Usage Time (min/day)      0\n",
      "Screen On Time (hours/day)    0\n",
      "Battery Drain (mAh/day)       0\n",
      "Number of Apps Installed      0\n",
      "Data Usage (MB/day)           0\n",
      "Age                           0\n",
      "Gender                        0\n",
      "User Behavior Class           0\n",
      "dtype: int64\n"
     ]
    }
   ],
   "source": [
    "print(data.isnull().sum())"
   ]
  },
  {
   "cell_type": "code",
   "execution_count": 11,
   "id": "bb9aeaff-3d09-4000-b472-05603b0b9a8b",
   "metadata": {},
   "outputs": [
    {
     "name": "stderr",
     "output_type": "stream",
     "text": [
      "\n",
      "[notice] A new release of pip is available: 24.2 -> 24.3.1\n",
      "[notice] To update, run: python.exe -m pip install --upgrade pip\n"
     ]
    },
    {
     "name": "stdout",
     "output_type": "stream",
     "text": [
      "Requirement already satisfied: scikit-learn in c:\\users\\a2z\\appdata\\local\\programs\\python\\python312\\lib\\site-packages (1.5.2)\n",
      "Requirement already satisfied: numpy>=1.19.5 in c:\\users\\a2z\\appdata\\local\\programs\\python\\python312\\lib\\site-packages (from scikit-learn) (2.1.1)\n",
      "Requirement already satisfied: scipy>=1.6.0 in c:\\users\\a2z\\appdata\\local\\programs\\python\\python312\\lib\\site-packages (from scikit-learn) (1.14.1)\n",
      "Requirement already satisfied: joblib>=1.2.0 in c:\\users\\a2z\\appdata\\local\\programs\\python\\python312\\lib\\site-packages (from scikit-learn) (1.4.2)\n",
      "Requirement already satisfied: threadpoolctl>=3.1.0 in c:\\users\\a2z\\appdata\\local\\programs\\python\\python312\\lib\\site-packages (from scikit-learn) (3.5.0)\n"
     ]
    }
   ],
   "source": [
    "!pip install scikit-learn\n",
    "\n",
    "from sklearn.preprocessing import LabelEncoder\n",
    "label_encoder=LabelEncoder()\n",
    "data[' Device Model']=label_encoder.fit_transform(data[ 'Device Model'])"
   ]
  },
  {
   "cell_type": "code",
   "execution_count": 18,
   "id": "afb82dd3-99eb-4050-a2db-bbc9295dd5a0",
   "metadata": {},
   "outputs": [
    {
     "name": "stdout",
     "output_type": "stream",
     "text": [
      "0      6.4\n",
      "1      4.7\n",
      "2      4.0\n",
      "3      4.8\n",
      "4      4.3\n",
      "      ... \n",
      "695    3.9\n",
      "696    6.8\n",
      "697    3.1\n",
      "698    1.7\n",
      "699    5.4\n",
      "Name: Screen On Time (hours/day), Length: 700, dtype: float64\n"
     ]
    }
   ],
   "source": [
    "# First, remove any extra whitespace from column names\n",
    "data.columns = data.columns.str.strip()\n",
    "\n",
    "# Now you can select features and target without extra whitespace issues\n",
    "X = data.drop(columns=['Screen On Time (hours/day)'])  # Features\n",
    "y = data['Screen On Time (hours/day)']  # Target\n",
    "print(y)\n"
   ]
  },
  {
   "cell_type": "code",
   "execution_count": 21,
   "id": "314e3a90-7fba-4c89-8671-8c61950a4fcf",
   "metadata": {},
   "outputs": [],
   "source": [
    "from sklearn.model_selection import train_test_split\n",
    "\n",
    "# Splitting the data into training and test sets\n",
    "X_train, X_test, y_train, y_test = train_test_split(X, y, test_size=0.2, random_state=42)\n"
   ]
  },
  {
   "cell_type": "code",
   "execution_count": 24,
   "id": "d0663521-5bf5-4bdf-b00a-2ded936b7433",
   "metadata": {},
   "outputs": [
    {
     "name": "stdout",
     "output_type": "stream",
     "text": [
      "Index(['User ID', 'App Usage Time (min/day)', 'Battery Drain (mAh/day)',\n",
      "       'Number of Apps Installed', 'Data Usage (MB/day)', 'Age',\n",
      "       'User Behavior Class', 'Gender_Male', 'Device Model_OnePlus 9',\n",
      "       'Device Model_Samsung Galaxy S21', 'Device Model_Xiaomi Mi 11',\n",
      "       'Device Model_iPhone 12', 'Device Model_1', 'Device Model_2',\n",
      "       'Device Model_3', 'Device Model_4', 'Operating System_iOS'],\n",
      "      dtype='object')\n"
     ]
    }
   ],
   "source": [
    "import pandas as pd\n",
    "from sklearn.preprocessing import StandardScaler\n",
    "\n",
    "# Ensure column names have no leading/trailing whitespace\n",
    "X_train.columns = X_train.columns.str.strip()\n",
    "X_test.columns = X_test.columns.str.strip()\n",
    "\n",
    "# Define categorical columns without extra whitespace\n",
    "categorical_columns = ['Device Model', 'Operating System', 'Gender']\n",
    "\n",
    "# One-hot encoding for categorical variables\n",
    "for column in categorical_columns:\n",
    "    if column in X_train.columns:\n",
    "        X_train = pd.get_dummies(X_train, columns=[column], drop_first=True)\n",
    "        X_test = pd.get_dummies(X_test, columns=[column], drop_first=True)\n",
    "\n",
    "# Align columns in case of any missing categories\n",
    "X_train, X_test = X_train.align(X_test, join='left', axis=1, fill_value=0)\n",
    "\n",
    "# Store feature names before scaling\n",
    "feature_names = X_train.columns\n",
    "\n",
    "# Scale the features\n",
    "scaler = StandardScaler()\n",
    "X_train = scaler.fit_transform(X_train)  # Converts to NumPy array\n",
    "X_test = scaler.transform(X_test)  # Converts to NumPy array\n",
    "\n",
    "# At this point, feature_names is still available as a list\n",
    "print(feature_names)\n"
   ]
  },
  {
   "cell_type": "code",
   "execution_count": 26,
   "id": "c6c92db1-b963-4745-b9a2-c2236bc9231d",
   "metadata": {},
   "outputs": [],
   "source": [
    "from sklearn.linear_model import LinearRegression\n",
    "\n",
    "lin_reg=LinearRegression()\n",
    "lin_reg.fit(X_train,y_train)\n",
    "y_pred=lin_reg.predict(X_test)"
   ]
  },
  {
   "cell_type": "code",
   "execution_count": 27,
   "id": "559c6d3a-c5dd-42d3-b312-a4e6fdfb0a2a",
   "metadata": {},
   "outputs": [
    {
     "name": "stdout",
     "output_type": "stream",
     "text": [
      "Mean Absolute Error: 0.6445792137235598\n",
      "Mean Squared Error: 0.6251732374662121\n",
      "R^2 Score: 0.9303228357085748\n"
     ]
    }
   ],
   "source": [
    "from sklearn.metrics import mean_absolute_error, mean_squared_error, r2_score\n",
    "# Assuming y_test and y_pred are defined\n",
    "mae = mean_absolute_error(y_test, y_pred)\n",
    "mse = mean_squared_error(y_test, y_pred)\n",
    "r2 = r2_score(y_test, y_pred)\n",
    "# Print the evaluation metrics\n",
    "print(\"Mean Absolute Error:\", mae)\n",
    "print(\"Mean Squared Error:\", mse)\n",
    "print(\"R^2 Score:\", r2)"
   ]
  },
  {
   "cell_type": "code",
   "execution_count": 31,
   "id": "69a60b71-89ec-4558-bccf-357bb7d9f0bd",
   "metadata": {},
   "outputs": [
    {
     "data": {
      "image/png": "[encoded data removed]",
      "text/plain": [
       "<Figure size 640x480 with 1 Axes>"
      ]
     },
     "metadata": {},
     "output_type": "display_data"
    }
   ],
   "source": [
    "import matplotlib.pyplot as plt\n",
    "# Optionally, visualize predictions vs actual values\n",
    "plt.scatter(y_test, y_pred)\n",
    "plt.xlabel(\"Actual Values\")\n",
    "plt.ylabel(\"Predicted Values\")\n",
    "plt.title(\"Actual vs Predicted Values\")\n",
    "# Plotting the line for perfect predictions\n",
    "plt.plot([y_test.min(), y_test.max()], [y_test.min(), y_test.max()],color='red', linestyle='--')\n",
    "plt.show()"
   ]
  },
  {
   "cell_type": "code",
   "execution_count": 21,
   "id": "80c3c567-083e-4aff-94a3-78745ed5d6c9",
   "metadata": {},
   "outputs": [
    {
     "name": "stdout",
     "output_type": "stream",
     "text": [
      "Random Forest Regression R^2: 0.9936\n",
      "Mean Absolute Error (MAE): 147.0507\n",
      "Mean Squared Error (MSE): 30646.8740\n",
      "Accuracy: 0.8929\n",
      "Confusion Matrix:\n",
      "[[56  0  0]\n",
      " [ 0 39  9]\n",
      " [ 0  6 30]]\n",
      "Classification Report:\n",
      "              precision    recall  f1-score   support\n",
      "\n",
      "         0.0       1.00      1.00      1.00        56\n",
      "         1.0       0.87      0.81      0.84        48\n",
      "         2.0       0.77      0.83      0.80        36\n",
      "\n",
      "    accuracy                           0.89       140\n",
      "   macro avg       0.88      0.88      0.88       140\n",
      "weighted avg       0.89      0.89      0.89       140\n",
      "\n"
     ]
    }
   ],
   "source": [
    "import pandas as pd\n",
    "from sklearn.ensemble import RandomForestRegressor, RandomForestClassifier\n",
    "from sklearn.model_selection import train_test_split\n",
    "from sklearn.metrics import mean_squared_error, mean_absolute_error, accuracy_score, confusion_matrix, classification_report\n",
    "from sklearn.preprocessing import KBinsDiscretizer\n",
    "\n",
    "# Assuming the dataset is already loaded as 'data'\n",
    "# Example:\n",
    "data = pd.read_csv(\"C:/Users/a2z/OneDrive/Desktop/snehal/Data Science/Mini project/miniprojectdataset.csv\")\n",
    "\n",
    "# Preprocessing - You may need to convert categorical variables like 'Gender' and 'Device Model' to numerical values\n",
    "data['Gender'] = data['Gender'].map({'Male': 1, 'Female': 0})\n",
    "\n",
    "# Select features and target variable\n",
    "X = data[['App Usage Time (min/day)', 'Screen On Time (hours/day)', \n",
    "          'Number of Apps Installed', 'Data Usage (MB/day)', 'Age', 'Gender']]\n",
    "\n",
    "y = data['Battery Drain (mAh/day)']\n",
    "\n",
    "# --- Random Forest Regression ---\n",
    "# Split data into training and testing sets\n",
    "X_train, X_test, y_train, y_test = train_test_split(X, y, test_size=0.2, random_state=42)\n",
    "\n",
    "# Create and train the RandomForestRegressor model\n",
    "rf_regressor = RandomForestRegressor(n_estimators=100, random_state=42)\n",
    "rf_regressor.fit(X_train, y_train)\n",
    "\n",
    "# Evaluate the regression model (R², MAE, MSE)\n",
    "y_pred_regressor = rf_regressor.predict(X_test)\n",
    "r2_regressor = rf_regressor.score(X_train, y_train)  # R^2 score for training data\n",
    "mae = mean_absolute_error(y_test, y_pred_regressor)\n",
    "mse = mean_squared_error(y_test, y_pred_regressor)\n",
    "\n",
    "print(f\"Random Forest Regression R^2: {r2_regressor:.4f}\")\n",
    "print(f\"Mean Absolute Error (MAE): {mae:.4f}\")\n",
    "print(f\"Mean Squared Error (MSE): {mse:.4f}\")\n",
    "\n",
    "# --- Random Forest Classification ---\n",
    "# Convert 'Battery Drain' to categorical values (Low, Medium, High) using KBinsDiscretizer\n",
    "# This will classify the battery drain into 3 categories\n",
    "kbd = KBinsDiscretizer(n_bins=3, encode='ordinal', strategy='uniform')\n",
    "y_class = kbd.fit_transform(y.values.reshape(-1, 1)).flatten()\n",
    "\n",
    "# Split data again for classification task\n",
    "X_train_class, X_test_class, y_train_class, y_test_class = train_test_split(X, y_class, test_size=0.2, random_state=42)\n",
    "\n",
    "# Create and train the RandomForestClassifier model\n",
    "rf_classifier = RandomForestClassifier(n_estimators=100, random_state=42)\n",
    "rf_classifier.fit(X_train_class, y_train_class)\n",
    "\n",
    "# Predict and evaluate the classification model\n",
    "y_pred_class = rf_classifier.predict(X_test_class)\n",
    "accuracy = accuracy_score(y_test_class, y_pred_class)\n",
    "conf_matrix = confusion_matrix(y_test_class, y_pred_class)\n",
    "class_report = classification_report(y_test_class, y_pred_class)\n",
    "\n",
    "print(f\"Accuracy: {accuracy:.4f}\")\n",
    "print(\"Confusion Matrix:\")\n",
    "print(conf_matrix)\n",
    "print(\"Classification Report:\")\n",
    "print(class_report)\n"
   ]
  }
 ],
 "metadata": {
  "kernelspec": {
   "display_name": "Python 3 (ipykernel)",
   "language": "python",
   "name": "python3"
  },
  "language_info": {
   "codemirror_mode": {
    "name": "ipython",
    "version": 3
   },
   "file_extension": ".py",
   "mimetype": "text/x-python",
   "name": "python",
   "nbconvert_exporter": "python",
   "pygments_lexer": "ipython3",
   "version": "3.12.6"
  }
 },
 "nbformat": 4,
 "nbformat_minor": 5
}
